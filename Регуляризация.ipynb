{
  "nbformat": 4,
  "nbformat_minor": 0,
  "metadata": {
    "colab": {
      "provenance": [],
      "authorship_tag": "ABX9TyMl0/wTtGG4ZvaYmcOag+aq"
    },
    "kernelspec": {
      "name": "python3",
      "display_name": "Python 3"
    },
    "language_info": {
      "name": "python"
    }
  },
  "cells": [
    {
      "cell_type": "markdown",
      "source": [
        "# Регуляризация\n",
        "\n",
        "\n",
        "---\n",
        "\n"
      ],
      "metadata": {
        "id": "xBN0ifkbnJ8r"
      }
    },
    {
      "cell_type": "markdown",
      "source": [
        "Регуляризация помогает решить несколько общих проблем моделей, применяя:\n",
        "- Минимизацию сложности модели\n",
        "- Штрафы на функцию потерь\n",
        "- Уменьшая переобученность модели (добавляя больше смещения, чтобы уменьшить дисперсию)"
      ],
      "metadata": {
        "id": "V_gnagDnnYjK"
      }
    },
    {
      "cell_type": "markdown",
      "source": [
        "Или это способ уменьшить переобученность модели (overfitting):\n",
        "- Требует добавления смещения (bias)\n",
        "- Требует поиска оптимального значения гиперпараметра для штрафа"
      ],
      "metadata": {
        "id": "JWEgtR_OoNTp"
      }
    },
    {
      "cell_type": "markdown",
      "source": [
        "Основные три типа регуляризации:\n",
        "- L1 - Lasso регрессия\n",
        "- L2 - Ridge регрессия\n",
        "- КОмбо L1 и L2 - Elastic Net"
      ],
      "metadata": {
        "id": "4E6kn4ceomSf"
      }
    },
    {
      "cell_type": "markdown",
      "source": [
        "## L1"
      ],
      "metadata": {
        "id": "DSenwotvozKX"
      }
    },
    {
      "cell_type": "markdown",
      "source": [
        "Добавляет штраф, равный абсолютному значению величин коэффициентов\n",
        "- Ограничивает размер коффициентов\n",
        "- Может создавать разреженные модели, в которых нек коэф-ты становятся нулями"
      ],
      "metadata": {
        "id": "SQUjQ8pXq7bA"
      }
    },
    {
      "cell_type": "markdown",
      "source": [
        "Добвляет еще одно слагаемое - сумму коэффициентов что-то такое. Все так же метод наименьших квадратов, просто в формуле доп слагаемое - лямбда гиперпараметр"
      ],
      "metadata": {
        "id": "86_HgukGrbvf"
      }
    },
    {
      "cell_type": "markdown",
      "source": [
        "## L2"
      ],
      "metadata": {
        "id": "gd-GRnGDrphH"
      }
    },
    {
      "cell_type": "markdown",
      "source": [
        "Добавляет штраф, равный квадрату величин коэф-т\n",
        "- Все коэф-т уменьшаются на один порядок\n",
        "- Не обязательно обнуляет коэф-ты"
      ],
      "metadata": {
        "id": "Z7PPHuHzrr2_"
      }
    },
    {
      "cell_type": "markdown",
      "source": [
        "## Elastic Net"
      ],
      "metadata": {
        "id": "t9Y_6LuYsC9t"
      }
    },
    {
      "cell_type": "markdown",
      "source": [
        "Помимо лябды коэф-та добавляется альфа коэф"
      ],
      "metadata": {
        "id": "3nao4gQ8sIg1"
      }
    },
    {
      "cell_type": "markdown",
      "source": [
        "# Масштабирование признаков"
      ],
      "metadata": {
        "id": "I1pNInv-svUM"
      }
    },
    {
      "cell_type": "code",
      "source": [],
      "metadata": {
        "id": "pPNzJ4hNsy18"
      },
      "execution_count": null,
      "outputs": []
    }
  ]
}